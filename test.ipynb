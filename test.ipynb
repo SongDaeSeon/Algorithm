{
  "nbformat": 4,
  "nbformat_minor": 0,
  "metadata": {
    "colab": {
      "provenance": [],
      "mount_file_id": "1qJB2mnKOqswxsJU4n0DODBAbyzFAxixm",
      "authorship_tag": "ABX9TyM6NTaW/8lTecMhboldDpgy",
      "include_colab_link": true
    },
    "kernelspec": {
      "name": "python3",
      "display_name": "Python 3"
    },
    "language_info": {
      "name": "python"
    }
  },
  "cells": [
    {
      "cell_type": "markdown",
      "metadata": {
        "id": "view-in-github",
        "colab_type": "text"
      },
      "source": [
        "<a href=\"https://colab.research.google.com/github/SongDaeSeon/Algorithm/blob/main/test.ipynb\" target=\"_parent\"><img src=\"https://colab.research.google.com/assets/colab-badge.svg\" alt=\"Open In Colab\"/></a>"
      ]
    },
    {
      "cell_type": "code",
      "execution_count": 39,
      "metadata": {
        "colab": {
          "base_uri": "https://localhost:8080/"
        },
        "id": "os9RRli7xnnv",
        "outputId": "d034766a-9c0f-4292-d018-1ca57d6c9ff2"
      },
      "outputs": [
        {
          "output_type": "stream",
          "name": "stderr",
          "text": [
            "<ipython-input-39-f16f82939bf3>:10: FutureWarning: The default value of numeric_only in DataFrame.mean is deprecated. In a future version, it will default to False. In addition, specifying 'numeric_only=None' is deprecated. Select only valid columns or specify the value of numeric_only to silence this warning.\n",
            "  train_data.fillna(train_data.mean(), inplace=True)\n"
          ]
        }
      ],
      "source": [
        "import pandas as pd\n",
        "from sklearn.ensemble import GradientBoostingRegressor  # GradientBoostingClassifier\n",
        "from sklearn.preprocessing import StandardScaler\n",
        "from sklearn.metrics import mean_squared_error  # 분류 문제의 경우 적절한 평가 지표 사용\n",
        "\n",
        "# 데이터 로드\n",
        "train_data = pd.read_csv('/content/drive/MyDrive/학습 데이터.csv')\n",
        "\n",
        "# 전처리: 결측치 처리, 이상치 처리 등\n",
        "train_data.fillna(train_data.mean(), inplace=True)\n",
        "\n",
        "# 타겟 변수 분리\n",
        "train_labels = train_data[['an_e_w_rou', 'an_e_w_dep', 'an_f_w_rou', 'an_f_w_dep', 'seb_c_o', 'seb_f_o', 'cor_c_a', 'cor_f_a', 'mex_m', 'mex_nm']]\n",
        "train_data = train_data.drop(columns=['an_e_w_rou', 'an_e_w_dep', 'an_f_w_rou', 'an_f_w_dep', 'seb_c_o', 'seb_f_o', 'cor_c_a', 'cor_f_a', 'mex_m', 'mex_nm', 'sam_num'])\n",
        "\n",
        "# 정규화 또는 표준화\n",
        "scaler = StandardScaler()\n",
        "train_data_scaled = scaler.fit_transform(train_data)"
      ]
    },
    {
      "cell_type": "code",
      "source": [
        "from sklearn.multioutput import MultiOutputRegressor\n",
        "\n",
        "# 모델 전부 학습\n",
        "model = MultiOutputRegressor(GradientBoostingRegressor())\n",
        "model.fit(train_data_scaled, train_labels)"
      ],
      "metadata": {
        "colab": {
          "base_uri": "https://localhost:8080/",
          "height": 117
        },
        "id": "1yKULFao1yEV",
        "outputId": "acf8fa18-f2c4-49f7-cd67-358cf0dc4b37"
      },
      "execution_count": 31,
      "outputs": [
        {
          "output_type": "execute_result",
          "data": {
            "text/plain": [
              "MultiOutputRegressor(estimator=GradientBoostingRegressor())"
            ],
            "text/html": [
              "<style>#sk-container-id-6 {color: black;background-color: white;}#sk-container-id-6 pre{padding: 0;}#sk-container-id-6 div.sk-toggleable {background-color: white;}#sk-container-id-6 label.sk-toggleable__label {cursor: pointer;display: block;width: 100%;margin-bottom: 0;padding: 0.3em;box-sizing: border-box;text-align: center;}#sk-container-id-6 label.sk-toggleable__label-arrow:before {content: \"▸\";float: left;margin-right: 0.25em;color: #696969;}#sk-container-id-6 label.sk-toggleable__label-arrow:hover:before {color: black;}#sk-container-id-6 div.sk-estimator:hover label.sk-toggleable__label-arrow:before {color: black;}#sk-container-id-6 div.sk-toggleable__content {max-height: 0;max-width: 0;overflow: hidden;text-align: left;background-color: #f0f8ff;}#sk-container-id-6 div.sk-toggleable__content pre {margin: 0.2em;color: black;border-radius: 0.25em;background-color: #f0f8ff;}#sk-container-id-6 input.sk-toggleable__control:checked~div.sk-toggleable__content {max-height: 200px;max-width: 100%;overflow: auto;}#sk-container-id-6 input.sk-toggleable__control:checked~label.sk-toggleable__label-arrow:before {content: \"▾\";}#sk-container-id-6 div.sk-estimator input.sk-toggleable__control:checked~label.sk-toggleable__label {background-color: #d4ebff;}#sk-container-id-6 div.sk-label input.sk-toggleable__control:checked~label.sk-toggleable__label {background-color: #d4ebff;}#sk-container-id-6 input.sk-hidden--visually {border: 0;clip: rect(1px 1px 1px 1px);clip: rect(1px, 1px, 1px, 1px);height: 1px;margin: -1px;overflow: hidden;padding: 0;position: absolute;width: 1px;}#sk-container-id-6 div.sk-estimator {font-family: monospace;background-color: #f0f8ff;border: 1px dotted black;border-radius: 0.25em;box-sizing: border-box;margin-bottom: 0.5em;}#sk-container-id-6 div.sk-estimator:hover {background-color: #d4ebff;}#sk-container-id-6 div.sk-parallel-item::after {content: \"\";width: 100%;border-bottom: 1px solid gray;flex-grow: 1;}#sk-container-id-6 div.sk-label:hover label.sk-toggleable__label {background-color: #d4ebff;}#sk-container-id-6 div.sk-serial::before {content: \"\";position: absolute;border-left: 1px solid gray;box-sizing: border-box;top: 0;bottom: 0;left: 50%;z-index: 0;}#sk-container-id-6 div.sk-serial {display: flex;flex-direction: column;align-items: center;background-color: white;padding-right: 0.2em;padding-left: 0.2em;position: relative;}#sk-container-id-6 div.sk-item {position: relative;z-index: 1;}#sk-container-id-6 div.sk-parallel {display: flex;align-items: stretch;justify-content: center;background-color: white;position: relative;}#sk-container-id-6 div.sk-item::before, #sk-container-id-6 div.sk-parallel-item::before {content: \"\";position: absolute;border-left: 1px solid gray;box-sizing: border-box;top: 0;bottom: 0;left: 50%;z-index: -1;}#sk-container-id-6 div.sk-parallel-item {display: flex;flex-direction: column;z-index: 1;position: relative;background-color: white;}#sk-container-id-6 div.sk-parallel-item:first-child::after {align-self: flex-end;width: 50%;}#sk-container-id-6 div.sk-parallel-item:last-child::after {align-self: flex-start;width: 50%;}#sk-container-id-6 div.sk-parallel-item:only-child::after {width: 0;}#sk-container-id-6 div.sk-dashed-wrapped {border: 1px dashed gray;margin: 0 0.4em 0.5em 0.4em;box-sizing: border-box;padding-bottom: 0.4em;background-color: white;}#sk-container-id-6 div.sk-label label {font-family: monospace;font-weight: bold;display: inline-block;line-height: 1.2em;}#sk-container-id-6 div.sk-label-container {text-align: center;}#sk-container-id-6 div.sk-container {/* jupyter's `normalize.less` sets `[hidden] { display: none; }` but bootstrap.min.css set `[hidden] { display: none !important; }` so we also need the `!important` here to be able to override the default hidden behavior on the sphinx rendered scikit-learn.org. See: https://github.com/scikit-learn/scikit-learn/issues/21755 */display: inline-block !important;position: relative;}#sk-container-id-6 div.sk-text-repr-fallback {display: none;}</style><div id=\"sk-container-id-6\" class=\"sk-top-container\"><div class=\"sk-text-repr-fallback\"><pre>MultiOutputRegressor(estimator=GradientBoostingRegressor())</pre><b>In a Jupyter environment, please rerun this cell to show the HTML representation or trust the notebook. <br />On GitHub, the HTML representation is unable to render, please try loading this page with nbviewer.org.</b></div><div class=\"sk-container\" hidden><div class=\"sk-item sk-dashed-wrapped\"><div class=\"sk-label-container\"><div class=\"sk-label sk-toggleable\"><input class=\"sk-toggleable__control sk-hidden--visually\" id=\"sk-estimator-id-16\" type=\"checkbox\" ><label for=\"sk-estimator-id-16\" class=\"sk-toggleable__label sk-toggleable__label-arrow\">MultiOutputRegressor</label><div class=\"sk-toggleable__content\"><pre>MultiOutputRegressor(estimator=GradientBoostingRegressor())</pre></div></div></div><div class=\"sk-parallel\"><div class=\"sk-parallel-item\"><div class=\"sk-item\"><div class=\"sk-label-container\"><div class=\"sk-label sk-toggleable\"><input class=\"sk-toggleable__control sk-hidden--visually\" id=\"sk-estimator-id-17\" type=\"checkbox\" ><label for=\"sk-estimator-id-17\" class=\"sk-toggleable__label sk-toggleable__label-arrow\">estimator: GradientBoostingRegressor</label><div class=\"sk-toggleable__content\"><pre>GradientBoostingRegressor()</pre></div></div></div><div class=\"sk-serial\"><div class=\"sk-item\"><div class=\"sk-estimator sk-toggleable\"><input class=\"sk-toggleable__control sk-hidden--visually\" id=\"sk-estimator-id-18\" type=\"checkbox\" ><label for=\"sk-estimator-id-18\" class=\"sk-toggleable__label sk-toggleable__label-arrow\">GradientBoostingRegressor</label><div class=\"sk-toggleable__content\"><pre>GradientBoostingRegressor()</pre></div></div></div></div></div></div></div></div></div></div>"
            ]
          },
          "metadata": {},
          "execution_count": 31
        }
      ]
    },
    {
      "cell_type": "code",
      "source": [
        "# 데이터 로드\n",
        "test_data = pd.read_csv('/content/drive/MyDrive/테스트 데이터.csv')\n",
        "\n",
        "# 전처리: 결측치 처리, 이상치 처리 등\n",
        "test_data.fillna(test_data.mean(), inplace=True)\n",
        "\n",
        "# 'sam_num' 속성 제거\n",
        "test_data = test_data.drop(columns=['sam_num'])\n",
        "\n",
        "# 정규화 또는 표준화\n",
        "test_data_scaled = scaler.transform(test_data)"
      ],
      "metadata": {
        "colab": {
          "base_uri": "https://localhost:8080/"
        },
        "id": "6sPgsF1t1yGr",
        "outputId": "5abfee97-c303-4e33-cf80-da41e0cb86ee"
      },
      "execution_count": 40,
      "outputs": [
        {
          "output_type": "stream",
          "name": "stderr",
          "text": [
            "<ipython-input-40-a10f4988e631>:5: FutureWarning: The default value of numeric_only in DataFrame.mean is deprecated. In a future version, it will default to False. In addition, specifying 'numeric_only=None' is deprecated. Select only valid columns or specify the value of numeric_only to silence this warning.\n",
            "  test_data.fillna(test_data.mean(), inplace=True)\n"
          ]
        }
      ]
    },
    {
      "cell_type": "code",
      "source": [
        "test_labels = ['an_e_w_rou', 'an_e_w_dep', 'an_f_w_rou', 'an_f_w_dep', 'seb_c_o', 'seb_f_o', 'cor_c_a', 'cor_f_a', 'mex_m', 'mex_nm']"
      ],
      "metadata": {
        "id": "asGVW9nz5HrE"
      },
      "execution_count": 47,
      "outputs": []
    },
    {
      "cell_type": "code",
      "source": [
        "# 모델 평가\n",
        "predictions = model.predict(test_data_scaled)\n",
        "print('Predictions:', predictions)"
      ],
      "metadata": {
        "colab": {
          "base_uri": "https://localhost:8080/"
        },
        "id": "ukBFp2j552Fe",
        "outputId": "191d49b4-b85b-492f-9be7-02e7e92a29b6"
      },
      "execution_count": 48,
      "outputs": [
        {
          "output_type": "stream",
          "name": "stdout",
          "text": [
            "Predictions: [[3.19530330e+01 2.70977227e-01 1.40898167e+01 1.09892105e-01\n",
            "  4.59353166e+01 1.05808838e+02 7.14946536e+01 6.37045874e+01\n",
            "  1.50855252e+02 9.12869837e+01]\n",
            " [2.80627127e+01 2.39818679e-01 1.27539110e+01 1.13814422e-01\n",
            "  1.41993939e+01 4.50526884e+01 6.82855722e+01 7.03771247e+01\n",
            "  2.10638428e+02 1.38829469e+02]\n",
            " [3.34639012e+01 2.36967660e-01 1.27564395e+01 1.18247206e-01\n",
            "  2.55042548e+01 1.31773144e+01 6.23624119e+01 4.70414568e+01\n",
            "  1.91464376e+02 1.52090395e+02]\n",
            " [3.13241538e+01 2.61021708e-01 1.58279764e+01 1.13928405e-01\n",
            "  1.10057206e+01 3.27602778e+01 7.14007976e+01 5.80229970e+01\n",
            "  2.00599273e+02 1.50375991e+02]\n",
            " [3.63001902e+01 3.02459721e-01 1.46636119e+01 1.33535451e-01\n",
            "  6.58592887e+01 1.42638580e+01 6.33325511e+01 4.77213703e+01\n",
            "  2.65957154e+02 1.54554949e+02]\n",
            " [3.16254352e+01 2.53360061e-01 1.55841512e+01 1.35761134e-01\n",
            "  3.61932492e+01 5.26086882e+01 6.55822818e+01 6.93043199e+01\n",
            "  1.52969629e+02 1.26333676e+02]\n",
            " [3.30109173e+01 2.29601313e-01 1.68821878e+01 9.38557593e-02\n",
            "  2.04416996e+01 1.60827001e+01 7.79434346e+01 4.81275769e+01\n",
            "  1.53346728e+02 1.18022172e+02]\n",
            " [3.85806118e+01 2.45485734e-01 1.26403807e+01 1.33798763e-01\n",
            "  1.55914620e+01 1.24450713e+01 7.24647384e+01 4.89045210e+01\n",
            "  1.50302213e+02 1.17307385e+02]\n",
            " [3.20626170e+01 2.51403439e-01 1.38005249e+01 1.08908242e-01\n",
            "  1.49168655e+01 2.69969080e+01 6.99979961e+01 5.49124497e+01\n",
            "  1.92331268e+02 1.46529577e+02]\n",
            " [3.58337448e+01 2.84298050e-01 1.37163856e+01 1.25503610e-01\n",
            "  6.49976806e+01 2.45364562e+01 7.45260140e+01 5.14259453e+01\n",
            "  1.55989156e+02 1.14171814e+02]\n",
            " [3.69690485e+01 2.27882279e-01 1.04036174e+01 1.09959238e-01\n",
            "  6.56532639e+00 2.46326016e+01 7.15861983e+01 6.51941216e+01\n",
            "  1.54184402e+02 1.11381347e+02]\n",
            " [3.08187614e+01 2.33632896e-01 1.75312809e+01 1.20103340e-01\n",
            "  2.07373724e+01 3.10649286e+01 7.28516398e+01 6.94039606e+01\n",
            "  1.52701886e+02 1.35309769e+02]\n",
            " [3.70686848e+01 2.31567530e-01 1.18758256e+01 1.29727333e-01\n",
            "  1.92418053e+01 3.74736900e+01 7.57873799e+01 6.56211268e+01\n",
            "  1.92682744e+02 1.42708708e+02]\n",
            " [3.30999811e+01 3.06192111e-01 1.92470826e+01 1.21371130e-01\n",
            "  6.69692998e+01 3.90421116e+01 7.33246021e+01 7.25808744e+01\n",
            "  1.53154060e+02 1.12733595e+02]\n",
            " [3.38657368e+01 2.20290267e-01 1.51563657e+01 1.07737322e-01\n",
            "  2.96200086e+01 5.75480124e+01 6.69780178e+01 6.67292420e+01\n",
            "  1.62491021e+02 1.14234933e+02]\n",
            " [3.69922497e+01 2.24283327e-01 1.22051074e+01 1.10042400e-01\n",
            "  1.48073751e+01 4.13498025e+01 7.44933138e+01 4.95319762e+01\n",
            "  1.55550482e+02 1.12992636e+02]\n",
            " [3.29336002e+01 2.44373838e-01 1.19891833e+01 1.29025003e-01\n",
            "  1.80239473e+01 1.65826876e+01 7.35709260e+01 6.58966467e+01\n",
            "  1.51177248e+02 1.11439044e+02]\n",
            " [3.28343861e+01 2.24090442e-01 9.57292327e+00 1.07629789e-01\n",
            "  1.20675281e+01 3.32788881e+01 7.87668567e+01 6.53745267e+01\n",
            "  1.58784960e+02 1.15105402e+02]\n",
            " [3.72103127e+01 2.37260617e-01 1.24043755e+01 1.28854210e-01\n",
            "  1.10843097e+01 4.34276057e+01 7.33432438e+01 5.15820990e+01\n",
            "  1.88853395e+02 1.49776207e+02]\n",
            " [2.96994071e+01 2.79464844e-01 1.30649666e+01 1.15115794e-01\n",
            "  4.86447842e+01 5.99332788e+01 6.60622264e+01 5.79036677e+01\n",
            "  1.42125832e+02 9.74973472e+01]\n",
            " [2.81010014e+01 2.54444723e-01 1.30138053e+01 1.36346750e-01\n",
            "  2.13549202e+01 2.61214582e+01 6.41920260e+01 7.02745048e+01\n",
            "  1.55076835e+02 1.32562897e+02]\n",
            " [3.85767181e+01 2.12297338e-01 9.63693982e+00 1.00925653e-01\n",
            "  8.25659085e+00 3.75298998e+01 7.62756913e+01 5.47929685e+01\n",
            "  1.60825579e+02 1.22873550e+02]\n",
            " [2.80746805e+01 2.14173934e-01 1.16922739e+01 1.13754776e-01\n",
            "  2.12338563e+01 3.11745973e+01 7.25790369e+01 5.15702704e+01\n",
            "  1.52092051e+02 1.20082645e+02]\n",
            " [2.70355276e+01 2.39649527e-01 1.27052202e+01 1.19393196e-01\n",
            "  1.35703272e+01 4.76091850e+01 7.65987394e+01 7.02401409e+01\n",
            "  1.51052174e+02 9.29549401e+01]\n",
            " [2.87658726e+01 2.50990784e-01 1.19704587e+01 1.20394753e-01\n",
            "  1.32776975e+01 4.16293041e+01 6.93458898e+01 5.73154570e+01\n",
            "  1.99751981e+02 1.56585363e+02]\n",
            " [2.97463032e+01 2.66986025e-01 1.35453632e+01 1.01695963e-01\n",
            "  4.78981253e+01 9.12625895e+01 6.67175981e+01 5.67477994e+01\n",
            "  2.07910131e+02 1.55524201e+02]\n",
            " [2.83284878e+01 2.73427304e-01 1.25216682e+01 1.24104046e-01\n",
            "  4.76356837e+01 3.90262059e+01 7.45582950e+01 5.81263883e+01\n",
            "  1.96757447e+02 1.56451651e+02]\n",
            " [3.70769590e+01 2.83577787e-01 1.20335340e+01 1.22491405e-01\n",
            "  6.25465949e+01 1.32267784e+01 6.98880850e+01 4.95870909e+01\n",
            "  2.64269935e+02 1.50348198e+02]\n",
            " [3.07182535e+01 3.25794875e-01 1.91064480e+01 1.19439161e-01\n",
            "  8.03455994e+01 1.82681969e+01 6.90314625e+01 7.45402887e+01\n",
            "  1.50052491e+02 1.29451878e+02]\n",
            " [3.02840999e+01 2.55542768e-01 1.53274210e+01 1.23820748e-01\n",
            "  1.73341402e+01 2.93697946e+01 7.00876005e+01 4.76150181e+01\n",
            "  1.88589209e+02 1.52629054e+02]]\n"
          ]
        }
      ]
    }
  ]
}